{
 "cells": [
  {
   "cell_type": "markdown",
   "metadata": {},
   "source": [
    "Importing libraries"
   ]
  },
  {
   "cell_type": "code",
   "execution_count": 99,
   "metadata": {},
   "outputs": [],
   "source": [
    "import numpy as np\n",
    "from sklearn import datasets\n",
    "from sklearn.model_selection import train_test_split"
   ]
  },
  {
   "cell_type": "markdown",
   "metadata": {},
   "source": [
    "Defining class for a weak classifier, which simply returns predictions of 1 or -1 if the sample is above or below the threshold, for a given feature"
   ]
  },
  {
   "cell_type": "code",
   "execution_count": 100,
   "metadata": {},
   "outputs": [],
   "source": [
    "class WeakClassifier:\n",
    "    def __init__(self):\n",
    "        self.check_below_threshold = True\n",
    "        self.feature_num = None\n",
    "        self.threshold = None\n",
    "        self.alpha = None\n",
    "\n",
    "    def predict(self, X):\n",
    "        num_samples = X.shape[0]\n",
    "        X_column = X[:, self.feature_num]\n",
    "\n",
    "        predictions = np.ones(num_samples)\n",
    "        if self.check_below_threshold:\n",
    "            predictions[X_column < self.threshold] = -1\n",
    "        else:\n",
    "            predictions[X_column > self.threshold] = -1\n",
    "        return predictions"
   ]
  },
  {
   "cell_type": "markdown",
   "metadata": {},
   "source": [
    "Defining class for implementation of AdaBoost algorithm. The class takes in a number of weak classifiers as input."
   ]
  },
  {
   "cell_type": "code",
   "execution_count": 101,
   "metadata": {},
   "outputs": [],
   "source": [
    "class MyAdaBoost:\n",
    "    def __init__(self, num_classifiers=5):\n",
    "        self.num_classifiers = num_classifiers\n",
    "        self.classifier_list = []\n",
    "\n",
    "    def fit(self, X, y):\n",
    "        num_rows, num_features = X.shape\n",
    "\n",
    "        # Initialize the weights\n",
    "        weights = np.full(num_rows, (1 / num_rows))\n",
    "\n",
    "        for _ in range(self.num_classifiers):\n",
    "            clf = WeakClassifier()\n",
    "\n",
    "            min_error = float(\"inf\")\n",
    "            for feature_num in range(num_features):\n",
    "                X_column = X[:, feature_num]\n",
    "                for threshold in np.unique(X_column):\n",
    "                    check_below = True\n",
    "                    predictions = np.ones(num_rows)\n",
    "                    predictions[X_column < threshold] = -1\n",
    "                    \n",
    "                    misclassified_preds = weights[y != predictions]\n",
    "                    error = sum(misclassified_preds)\n",
    "\n",
    "                    if error > 0.5:\n",
    "                        error = 1 - error\n",
    "                        check_below = False\n",
    "\n",
    "                    if error < min_error:\n",
    "                        min_error = error\n",
    "                        clf.check_below_threshold = check_below\n",
    "                        clf.threshold = threshold\n",
    "                        clf.feature_num = feature_num\n",
    "\n",
    "            EPSILON = 1e-10\n",
    "            clf.alpha = 0.5 * np.log((1 - error) / (error + EPSILON))\n",
    "\n",
    "            predictions = clf.predict(X)\n",
    "            weights *= np.exp(-clf.alpha * y * predictions)\n",
    "            weights /= np.sum(weights)\n",
    "\n",
    "            self.classifier_list.append(clf)\n",
    "\n",
    "    def predict(self, X):\n",
    "        clf_predictions = [clf.alpha * clf.predict(X) for clf in self.classifier_list]\n",
    "        y_pred = np.sum(clf_predictions, axis=0)\n",
    "        return np.sign(y_pred)\n"
   ]
  },
  {
   "cell_type": "markdown",
   "metadata": {},
   "source": [
    "Function to get accuracy of prediction (number of correct predictions / number of samples)"
   ]
  },
  {
   "cell_type": "code",
   "execution_count": 102,
   "metadata": {},
   "outputs": [],
   "source": [
    "def get_accuracy(y_true, y_pred):\n",
    "    return np.sum(y_true == y_pred) / len(y_true)"
   ]
  },
  {
   "cell_type": "markdown",
   "metadata": {},
   "source": [
    "Loading breast cancer dataset and changing y label to -1 (as Adaboost expects -1 instead of 0)"
   ]
  },
  {
   "cell_type": "code",
   "execution_count": 103,
   "metadata": {},
   "outputs": [],
   "source": [
    "data = datasets.load_breast_cancer()\n",
    "X = data.data\n",
    "y = data.target\n",
    "y[y == 0] = -1"
   ]
  },
  {
   "cell_type": "markdown",
   "metadata": {},
   "source": [
    "Performing train-test split of 80-20"
   ]
  },
  {
   "cell_type": "code",
   "execution_count": 104,
   "metadata": {},
   "outputs": [],
   "source": [
    "X_train, X_test, y_train, y_test = train_test_split(X, y, test_size=0.2, random_state=42)"
   ]
  },
  {
   "cell_type": "markdown",
   "metadata": {},
   "source": [
    "Training Adaboost and printing test accuracy"
   ]
  },
  {
   "cell_type": "code",
   "execution_count": 105,
   "metadata": {},
   "outputs": [
    {
     "name": "stdout",
     "output_type": "stream",
     "text": [
      "Accuracy: 95.61%\n"
     ]
    }
   ],
   "source": [
    "clf = MyAdaBoost(num_classifiers=5)\n",
    "clf.fit(X_train, y_train)\n",
    "y_pred = clf.predict(X_test)\n",
    "\n",
    "acc = get_accuracy(y_test, y_pred)\n",
    "print(f\"Accuracy: {acc*100:.2f}%\")"
   ]
  },
  {
   "cell_type": "markdown",
   "metadata": {},
   "source": [
    "Loading heart disease dataset from kaggle, and changing 0 label to -1"
   ]
  },
  {
   "cell_type": "code",
   "execution_count": 106,
   "metadata": {},
   "outputs": [],
   "source": [
    "data = np.genfromtxt('heart.csv', delimiter=',')\n",
    "X = data[:, :-1]\n",
    "y = data[:, -1]\n",
    "y[y == 0] = -1"
   ]
  },
  {
   "cell_type": "code",
   "execution_count": 107,
   "metadata": {},
   "outputs": [],
   "source": [
    "X_train, X_test, y_train, y_test = train_test_split(X, y, test_size=0.2, random_state=42)"
   ]
  },
  {
   "cell_type": "code",
   "execution_count": 108,
   "metadata": {},
   "outputs": [
    {
     "name": "stdout",
     "output_type": "stream",
     "text": [
      "Accuracy: 76.59%\n"
     ]
    }
   ],
   "source": [
    "clf = MyAdaBoost(num_classifiers=15)\n",
    "clf.fit(X_train, y_train)\n",
    "y_pred = clf.predict(X_test)\n",
    "\n",
    "acc = get_accuracy(y_test, y_pred)\n",
    "print(f\"Accuracy: {acc*100:.2f}%\")"
   ]
  },
  {
   "cell_type": "markdown",
   "metadata": {},
   "source": [
    "Loading Iris Dataset and transforming it into a binary classification problem by merging classes 1 and 2 into a single class of 1. The 0 label is changed to a -1 label again."
   ]
  },
  {
   "cell_type": "code",
   "execution_count": 109,
   "metadata": {},
   "outputs": [],
   "source": [
    "data = datasets.load_iris()\n",
    "X = data.data\n",
    "y = data.target\n",
    "y[y == 0] = -1\n",
    "y[y == 2] = 1\n"
   ]
  },
  {
   "cell_type": "code",
   "execution_count": 110,
   "metadata": {},
   "outputs": [],
   "source": [
    "X_train, X_test, y_train, y_test = train_test_split(X, y, test_size=0.4, random_state=42)"
   ]
  },
  {
   "cell_type": "code",
   "execution_count": 111,
   "metadata": {},
   "outputs": [
    {
     "name": "stdout",
     "output_type": "stream",
     "text": [
      "Accuracy: 100.00%\n"
     ]
    }
   ],
   "source": [
    "clf = MyAdaBoost(num_classifiers=5)\n",
    "clf.fit(X_train, y_train)\n",
    "y_pred = clf.predict(X_test)\n",
    "\n",
    "acc = get_accuracy(y_test, y_pred)\n",
    "print(f\"Accuracy: {acc*100:.2f}%\")"
   ]
  },
  {
   "cell_type": "markdown",
   "metadata": {},
   "source": [
    "Loading wine dataset and transforming it into binary classification problem as well, same as Iris dataset"
   ]
  },
  {
   "cell_type": "code",
   "execution_count": 112,
   "metadata": {},
   "outputs": [],
   "source": [
    "data = datasets.load_wine()\n",
    "X = data.data\n",
    "y = data.target\n",
    "y[y == 0] = -1\n",
    "y[y == 2] = 1"
   ]
  },
  {
   "cell_type": "code",
   "execution_count": 113,
   "metadata": {},
   "outputs": [],
   "source": [
    "X_train, X_test, y_train, y_test = train_test_split(X, y, test_size=0.4, random_state=42)"
   ]
  },
  {
   "cell_type": "code",
   "execution_count": 114,
   "metadata": {},
   "outputs": [
    {
     "name": "stdout",
     "output_type": "stream",
     "text": [
      "Accuracy: 97.22%\n"
     ]
    }
   ],
   "source": [
    "clf = MyAdaBoost(num_classifiers=5)\n",
    "clf.fit(X_train, y_train)\n",
    "y_pred = clf.predict(X_test)\n",
    "\n",
    "acc = get_accuracy(y_test, y_pred)\n",
    "print(f\"Accuracy: {acc*100:.2f}%\")"
   ]
  }
 ],
 "metadata": {
  "kernelspec": {
   "display_name": "tf",
   "language": "python",
   "name": "python3"
  },
  "language_info": {
   "codemirror_mode": {
    "name": "ipython",
    "version": 3
   },
   "file_extension": ".py",
   "mimetype": "text/x-python",
   "name": "python",
   "nbconvert_exporter": "python",
   "pygments_lexer": "ipython3",
   "version": "3.8.17"
  }
 },
 "nbformat": 4,
 "nbformat_minor": 2
}
