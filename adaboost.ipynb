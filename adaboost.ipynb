{
 "cells": [
  {
   "cell_type": "markdown",
   "metadata": {},
   "source": [
    "Importing Libaries"
   ]
  },
  {
   "cell_type": "code",
   "execution_count": 1,
   "metadata": {},
   "outputs": [],
   "source": [
    "import numpy as np"
   ]
  },
  {
   "cell_type": "markdown",
   "metadata": {},
   "source": [
    "Defining class for a weak classifier"
   ]
  },
  {
   "cell_type": "code",
   "execution_count": 2,
   "metadata": {},
   "outputs": [],
   "source": [
    "class WeakClassifier:\n",
    "\n",
    "    def __init__(self):\n",
    "        self.check_below_threshold = True\n",
    "        self.feature_num = None\n",
    "        self.threshold = None\n",
    "        self.alpha = None\n",
    "    \n",
    "    def predict(self, X):\n",
    "        num_samples = X.shape[0]\n",
    "        X_column = X[: self.feature_num]\n",
    "\n",
    "        predictions = np.ones(num_samples)\n",
    "        if self.check_above_threshold:\n",
    "            predictions[X_column < self.threshold] = -1\n",
    "        else:\n",
    "            predictions[X_column > self.threshold] = -1\n",
    "        return predictions"
   ]
  },
  {
   "cell_type": "code",
   "execution_count": null,
   "metadata": {},
   "outputs": [],
   "source": [
    "class MyAdaBoost:\n",
    "    def __init__(self, num_classifiers=5):\n",
    "        self.num_classifiers = num_classifiers\n",
    "\n",
    "    def fit(self, X, y):\n",
    "        num_rows, num_features = X.shape\n",
    "\n",
    "        # Initialize the weights\n",
    "        weights = np.full(num_rows, (1/num_rows))\n",
    "\n",
    "        self.classifier_list = []\n",
    "        for i in range(self.num_classifiers):\n",
    "            clf = WeakClassifier()\n",
    "\n",
    "            min_error = float('inf')\n",
    "            for feature_num in range(num_features):\n",
    "                X_column = X[: self.feature_num]\n",
    "                for threshold in np.unique(X_column):\n",
    "                    p = True\n",
    "                    predictions = np.ones(num_rows)\n",
    "                    predictions[X_column < threshold] = -1\n",
    "\n",
    "                    misclassified_preds = weights[y != predictions]\n",
    "                    error = sum(misclassified_preds)\n",
    "\n",
    "                    if error > 0.5:\n",
    "                        error = 1-error\n",
    "                        p = False\n",
    "\n",
    "                    if error < min_error:\n",
    "                        min_error = error\n",
    "                        clf.check_below_threshold = p\n",
    "                        clf.threshold = threshold\n",
    "                        clf.feature_num = feature_num\n",
    "\n",
    "            EPSILON = 1e-10\n",
    "            clf.alpha = 0.5 * np.log((1-error) / (error + EPSILON))\n",
    "            \n",
    "            predictions = clf.predict(X)\n",
    "            w  *= np.exp(-clf.alpha * y * predictions)\n",
    "            w /= np.sum(weights)\n",
    "\n",
    "            self.classifier_list.append(clf)\n",
    "\n",
    "\n",
    "    def predict(self, X):\n",
    "        clf_predictions = [clf.alpha * clf.predict for clf in self.classifier_list]\n",
    "        y_pred = np.sum(clf_predictions, axis=0)\n",
    "        return np.sign(y_pred)\n",
    "\n"
   ]
  }
 ],
 "metadata": {
  "kernelspec": {
   "display_name": "tf",
   "language": "python",
   "name": "python3"
  },
  "language_info": {
   "codemirror_mode": {
    "name": "ipython",
    "version": 3
   },
   "file_extension": ".py",
   "mimetype": "text/x-python",
   "name": "python",
   "nbconvert_exporter": "python",
   "pygments_lexer": "ipython3",
   "version": "3.8.17"
  }
 },
 "nbformat": 4,
 "nbformat_minor": 2
}
